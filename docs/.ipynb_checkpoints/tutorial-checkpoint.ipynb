{
 "cells": [
  {
   "cell_type": "markdown",
   "metadata": {},
   "source": [
    "# Keras Tutorial\n",
    "Tutorial przygotowany z:\n",
    "- Python 3.7\n",
    "- Jupyter Labs\n",
    "- Virutal Environment\n",
    "\n",
    "Repozytorium z kodem: [Github](https://github.com/Isur/keras-training)\n",
    "# Instalacja z Repozytorium\n",
    "## Środowisko Wirtualne\n",
    "### Tworzenie\n",
    "Linux: `python3.7 -m venv venv`\n",
    "\n",
    "Windows: `py -m venv venv`\n",
    "### Aktywacja\n",
    "Linux: `source ./venv/bin/activate`\n",
    "\n",
    "Windows: `.\\venv\\Scripts\\activate`\n",
    "## Instalacja paczek\n",
    "`pip install -r req.txt`\n",
    "## Struktura projektu\n",
    "`venv` - folder środowiska wirtualnego\n",
    "\n",
    "`docs` - jupyter notebooks, dokumentacja\n",
    "\n",
    "`src` - pliki źródłowe\n",
    "\n",
    "`req.txt` - zależności\n",
    "\n",
    "`app.py` - plik wejściowy, do uruchomienia aplikacji"
   ]
  },
  {
   "cell_type": "markdown",
   "metadata": {},
   "source": [
    "# Keras\n",
    "## Czym jest Keras\n",
    "Keras jest wysokopoziomowym API dla sieci neuronowych, działa z wykorzystaniem `TensorFlow`, `CNTK` lub `Theano`.\n",
    "\n",
    "Dokumentacja [Keras.io](https://keras.io/)\n",
    "\n",
    "**Keras** znaczy \"róg\" w języku greckim.\n",
    "\n",
    "## Cechy\n",
    "- łatwy i szybki w implementacji - przyjazny dla użytkowników, modularny, rozszerzalny\n",
    "- wspiera konwolucyjne oraz rekurencyjne sieci jak i ich kombinacje\n",
    "- wykorzystuje CPU oraz GPU"
   ]
  },
  {
   "cell_type": "markdown",
   "metadata": {},
   "source": [
    "# Podstawy\n",
    "## Modele\n",
    "Podstawą jest `model`, za pomocą którego możemy organizować warstwy.\n",
    "\n",
    "Podstawowym modelem jest `Sequential` - linowy stos wartsw.\n",
    "\n",
    "Możemy stworzyć model przez przekazanie listy warstw do konstruktora."
   ]
  },
  {
   "cell_type": "code",
   "execution_count": 5,
   "metadata": {},
   "outputs": [],
   "source": [
    "from keras.models import Sequential\n",
    "from keras.layers import Dense, Activation\n",
    "model = Sequential([\n",
    "    Dense(32, input_shape=(784,)),\n",
    "    Activation('relu'),\n",
    "    Dense(10),\n",
    "    Activation('softmax'),\n",
    "])"
   ]
  },
  {
   "cell_type": "markdown",
   "metadata": {},
   "source": [
    "Dodawanie kolejnych warstw odbywa się przez metodę `.add()`."
   ]
  },
  {
   "cell_type": "code",
   "execution_count": 6,
   "metadata": {},
   "outputs": [],
   "source": [
    "model.add(Dense(32, input_dim=784))\n",
    "model.add(Activation('relu'))"
   ]
  },
  {
   "cell_type": "markdown",
   "metadata": {},
   "source": [
    "## Kształt wejścia\n",
    "Dla modelu musi zostać określony kształt (`input shape`). Wystarczy to określić dla pierwszej warstwy. Jest kilka możliwości aby to zrobić:\n",
    "- przekazanie `input_shape` jako argument dla pierwszej warstwy,\n",
    "- przekazanie `input_dim` jako argument dla niektórych warstw 2D takich jak `Dense`, niektóre warstwy 3D przyjmują również `input_length`,\n",
    "- gdy trzeba określić rozmiar zestawu danych (fixed batch size) można przekazać argument `batch_size`. W przypadku podania `batch_size=32` oraz `input_shape(6,8)` do warstwy, to każdy zestaw danych będzie wymagał kształtu `(32, 6, 8)`\n",
    "\n",
    "Przykład warstw, które będą identyczne:"
   ]
  },
  {
   "cell_type": "code",
   "execution_count": null,
   "metadata": {},
   "outputs": [],
   "source": [
    "model = Sequential()\n",
    "model.add(Dense(32, input_shape=(784,)))"
   ]
  },
  {
   "cell_type": "code",
   "execution_count": null,
   "metadata": {},
   "outputs": [],
   "source": [
    "model = Sequential()\n",
    "model.add(Dense(32, input_dim=784))"
   ]
  }
 ],
 "metadata": {
  "kernelspec": {
   "display_name": "Python 3",
   "language": "python",
   "name": "python3"
  },
  "language_info": {
   "codemirror_mode": {
    "name": "ipython",
    "version": 3
   },
   "file_extension": ".py",
   "mimetype": "text/x-python",
   "name": "python",
   "nbconvert_exporter": "python",
   "pygments_lexer": "ipython3",
   "version": "3.7.7"
  }
 },
 "nbformat": 4,
 "nbformat_minor": 4
}
